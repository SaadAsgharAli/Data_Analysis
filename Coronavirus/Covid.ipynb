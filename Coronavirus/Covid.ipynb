{
 "cells": [
  {
   "cell_type": "markdown",
   "id": "39ab6f05",
   "metadata": {},
   "source": [
    "# Coronavirus Data Analysis"
   ]
  },
  {
   "cell_type": "code",
   "execution_count": 1,
   "id": "8e2972df",
   "metadata": {},
   "outputs": [],
   "source": [
    "# Data is about cases and deaths in different countries on a daily frequency"
   ]
  },
  {
   "cell_type": "code",
   "execution_count": 3,
   "id": "d774357d",
   "metadata": {},
   "outputs": [],
   "source": [
    "import numpy as np\n",
    "import pandas as pd\n",
    "import matplotlib.pyplot as plt\n",
    "%matplotlib inline\n",
    "import seaborn as sns"
   ]
  },
  {
   "cell_type": "code",
   "execution_count": 4,
   "id": "1628434f",
   "metadata": {},
   "outputs": [
    {
     "data": {
      "text/html": [
       "<div>\n",
       "<style scoped>\n",
       "    .dataframe tbody tr th:only-of-type {\n",
       "        vertical-align: middle;\n",
       "    }\n",
       "\n",
       "    .dataframe tbody tr th {\n",
       "        vertical-align: top;\n",
       "    }\n",
       "\n",
       "    .dataframe thead th {\n",
       "        text-align: right;\n",
       "    }\n",
       "</style>\n",
       "<table border=\"1\" class=\"dataframe\">\n",
       "  <thead>\n",
       "    <tr style=\"text-align: right;\">\n",
       "      <th></th>\n",
       "      <th>location</th>\n",
       "      <th>date</th>\n",
       "      <th>new_cases</th>\n",
       "      <th>new_deaths</th>\n",
       "      <th>population</th>\n",
       "      <th>aged_65_older_percent</th>\n",
       "      <th>gdp_per_capita</th>\n",
       "      <th>hospital_beds_per_thousand</th>\n",
       "    </tr>\n",
       "  </thead>\n",
       "  <tbody>\n",
       "    <tr>\n",
       "      <th>0</th>\n",
       "      <td>Afghanistan</td>\n",
       "      <td>12/31/2019</td>\n",
       "      <td>0</td>\n",
       "      <td>0</td>\n",
       "      <td>38928341.0</td>\n",
       "      <td>2.581</td>\n",
       "      <td>1803.987</td>\n",
       "      <td>0.5</td>\n",
       "    </tr>\n",
       "    <tr>\n",
       "      <th>1</th>\n",
       "      <td>Afghanistan</td>\n",
       "      <td>1/1/2020</td>\n",
       "      <td>0</td>\n",
       "      <td>0</td>\n",
       "      <td>38928341.0</td>\n",
       "      <td>2.581</td>\n",
       "      <td>1803.987</td>\n",
       "      <td>0.5</td>\n",
       "    </tr>\n",
       "    <tr>\n",
       "      <th>2</th>\n",
       "      <td>Afghanistan</td>\n",
       "      <td>1/2/2020</td>\n",
       "      <td>0</td>\n",
       "      <td>0</td>\n",
       "      <td>38928341.0</td>\n",
       "      <td>2.581</td>\n",
       "      <td>1803.987</td>\n",
       "      <td>0.5</td>\n",
       "    </tr>\n",
       "    <tr>\n",
       "      <th>3</th>\n",
       "      <td>Afghanistan</td>\n",
       "      <td>1/3/2020</td>\n",
       "      <td>0</td>\n",
       "      <td>0</td>\n",
       "      <td>38928341.0</td>\n",
       "      <td>2.581</td>\n",
       "      <td>1803.987</td>\n",
       "      <td>0.5</td>\n",
       "    </tr>\n",
       "    <tr>\n",
       "      <th>4</th>\n",
       "      <td>Afghanistan</td>\n",
       "      <td>1/4/2020</td>\n",
       "      <td>0</td>\n",
       "      <td>0</td>\n",
       "      <td>38928341.0</td>\n",
       "      <td>2.581</td>\n",
       "      <td>1803.987</td>\n",
       "      <td>0.5</td>\n",
       "    </tr>\n",
       "  </tbody>\n",
       "</table>\n",
       "</div>"
      ],
      "text/plain": [
       "      location        date  new_cases  new_deaths  population  \\\n",
       "0  Afghanistan  12/31/2019          0           0  38928341.0   \n",
       "1  Afghanistan    1/1/2020          0           0  38928341.0   \n",
       "2  Afghanistan    1/2/2020          0           0  38928341.0   \n",
       "3  Afghanistan    1/3/2020          0           0  38928341.0   \n",
       "4  Afghanistan    1/4/2020          0           0  38928341.0   \n",
       "\n",
       "   aged_65_older_percent  gdp_per_capita  hospital_beds_per_thousand  \n",
       "0                  2.581        1803.987                         0.5  \n",
       "1                  2.581        1803.987                         0.5  \n",
       "2                  2.581        1803.987                         0.5  \n",
       "3                  2.581        1803.987                         0.5  \n",
       "4                  2.581        1803.987                         0.5  "
      ]
     },
     "execution_count": 4,
     "metadata": {},
     "output_type": "execute_result"
    }
   ],
   "source": [
    "covid = pd.read_csv(\"covid_data.csv\")\n",
    "covid.head()"
   ]
  },
  {
   "cell_type": "code",
   "execution_count": 5,
   "id": "8eb30441",
   "metadata": {},
   "outputs": [
    {
     "name": "stdout",
     "output_type": "stream",
     "text": [
      "<class 'pandas.core.frame.DataFrame'>\n",
      "RangeIndex: 23082 entries, 0 to 23081\n",
      "Data columns (total 8 columns):\n",
      " #   Column                      Non-Null Count  Dtype  \n",
      "---  ------                      --------------  -----  \n",
      " 0   location                    23082 non-null  object \n",
      " 1   date                        23082 non-null  object \n",
      " 2   new_cases                   23082 non-null  int64  \n",
      " 3   new_deaths                  23082 non-null  int64  \n",
      " 4   population                  23018 non-null  float64\n",
      " 5   aged_65_older_percent       20643 non-null  float64\n",
      " 6   gdp_per_capita              20711 non-null  float64\n",
      " 7   hospital_beds_per_thousand  19144 non-null  float64\n",
      "dtypes: float64(4), int64(2), object(2)\n",
      "memory usage: 1.4+ MB\n"
     ]
    }
   ],
   "source": [
    "covid.info()"
   ]
  },
  {
   "cell_type": "code",
   "execution_count": 6,
   "id": "e6dfb3cd",
   "metadata": {},
   "outputs": [
    {
     "data": {
      "text/plain": [
       "57"
      ]
     },
     "execution_count": 6,
     "metadata": {},
     "output_type": "execute_result"
    }
   ],
   "source": [
    "# CHECK\n",
    "abc = covid['location'].value_counts() #Thankful to this command as it returns sorted results!\n",
    "abc.values\n",
    "#np.unique(abc.values, return_counts=True)\n",
    "len(np.unique(abc.values)) #=57\n",
    "#plt.scatter(range(len(abc)), abc.values) # Scatter requires x-axis values unlike plot function\n",
    "\n",
    "#abc[200:]\n",
    "\n",
    "# ROUGH\n",
    "#whitespace_check = covid['location'] != covid['location'].str.strip()\n",
    "#covid[whitespace_check]"
   ]
  },
  {
   "cell_type": "code",
   "execution_count": 7,
   "id": "cd1f342e",
   "metadata": {},
   "outputs": [
    {
     "data": {
      "text/plain": [
       "212"
      ]
     },
     "execution_count": 7,
     "metadata": {},
     "output_type": "execute_result"
    }
   ],
   "source": [
    "locations = covid['location'].unique()\n",
    "len(locations)"
   ]
  },
  {
   "cell_type": "code",
   "execution_count": 8,
   "id": "de18ab58",
   "metadata": {},
   "outputs": [
    {
     "name": "stdout",
     "output_type": "stream",
     "text": [
      "<class 'pandas.core.frame.DataFrame'>\n",
      "RangeIndex: 23082 entries, 0 to 23081\n",
      "Data columns (total 8 columns):\n",
      " #   Column                      Non-Null Count  Dtype         \n",
      "---  ------                      --------------  -----         \n",
      " 0   location                    23082 non-null  object        \n",
      " 1   date                        23082 non-null  datetime64[ns]\n",
      " 2   new_cases                   23082 non-null  int64         \n",
      " 3   new_deaths                  23082 non-null  int64         \n",
      " 4   population                  23018 non-null  float64       \n",
      " 5   aged_65_older_percent       20643 non-null  float64       \n",
      " 6   gdp_per_capita              20711 non-null  float64       \n",
      " 7   hospital_beds_per_thousand  19144 non-null  float64       \n",
      "dtypes: datetime64[ns](1), float64(4), int64(2), object(1)\n",
      "memory usage: 1.4+ MB\n"
     ]
    }
   ],
   "source": [
    "# Data type conversion\n",
    "covid['location'] = covid['location'].astype(str) # unsuccessful\n",
    "covid['date'] = pd.to_datetime(covid['date'], format='%m/%d/%Y') # using the 'to_datetime' function\n",
    "covid.info()"
   ]
  },
  {
   "cell_type": "code",
   "execution_count": 9,
   "id": "abb3fa4e",
   "metadata": {},
   "outputs": [],
   "source": [
    "# CHECK\n",
    "#covid[covid['location']=='Afghanistan']"
   ]
  },
  {
   "cell_type": "code",
   "execution_count": 10,
   "id": "19c01f65",
   "metadata": {},
   "outputs": [
    {
     "data": {
      "text/plain": [
       "location                         0\n",
       "date                             0\n",
       "new_cases                        0\n",
       "new_deaths                       0\n",
       "population                      64\n",
       "aged_65_older_percent         2439\n",
       "gdp_per_capita                2371\n",
       "hospital_beds_per_thousand    3938\n",
       "dtype: int64"
      ]
     },
     "execution_count": 10,
     "metadata": {},
     "output_type": "execute_result"
    }
   ],
   "source": [
    "# OBSERVATION\n",
    "covid.isnull().sum()   # 4 columns contain null values\n",
    "#sns.heatmap(covid.isnull(), cbar = False)"
   ]
  },
  {
   "cell_type": "code",
   "execution_count": 11,
   "id": "ec711022",
   "metadata": {},
   "outputs": [
    {
     "name": "stdout",
     "output_type": "stream",
     "text": [
      "<class 'pandas.core.frame.DataFrame'>\n",
      "Int64Index: 18328 entries, 0 to 23017\n",
      "Data columns (total 8 columns):\n",
      " #   Column                      Non-Null Count  Dtype         \n",
      "---  ------                      --------------  -----         \n",
      " 0   location                    18328 non-null  object        \n",
      " 1   date                        18328 non-null  datetime64[ns]\n",
      " 2   new_cases                   18328 non-null  int64         \n",
      " 3   new_deaths                  18328 non-null  int64         \n",
      " 4   population                  18328 non-null  float64       \n",
      " 5   aged_65_older_percent       18328 non-null  float64       \n",
      " 6   gdp_per_capita              18328 non-null  float64       \n",
      " 7   hospital_beds_per_thousand  18328 non-null  float64       \n",
      "dtypes: datetime64[ns](1), float64(4), int64(2), object(1)\n",
      "memory usage: 1.3+ MB\n"
     ]
    }
   ],
   "source": [
    "covid.dropna().info() # (~5k entries will be dropped after removing null values)"
   ]
  },
  {
   "cell_type": "markdown",
   "id": "c284422f",
   "metadata": {},
   "source": [
    "#### QUERIES:\n",
    "    1. Find out which countries contain Null values?     DONE\n",
    "    2. Shall I find out the patterns of Null values in each location?\n",
    "    3. What is the difference between World and International?\n",
    "    4. Find out the number of entries for each location.     DONE\n",
    "    5. Find out if which locations have repeated dates?      DONE\n",
    "    6. Find out the range of dates (first and last date) for each location.     DONE\n",
    "    7. Find out that there is only one unique value in each of the last four columns in each country's data."
   ]
  },
  {
   "cell_type": "code",
   "execution_count": 12,
   "id": "3920abd3",
   "metadata": {},
   "outputs": [
    {
     "name": "stdout",
     "output_type": "stream",
     "text": [
      "['Andorra' 'Angola' 'Anguilla' 'Aruba' 'Bermuda'\n",
      " 'Bonaire Sint Eustatius and Saba' 'British Virgin Islands'\n",
      " 'Cayman Islands' 'Chad' 'Congo' \"Cote d'Ivoire\" 'Cuba' 'Curacao'\n",
      " 'Democratic Republic of Congo' 'Dominica' 'Faeroe Islands'\n",
      " 'Falkland Islands' 'French Polynesia' 'Gibraltar' 'Greenland' 'Guam'\n",
      " 'Guernsey' 'Guinea-Bissau' 'Hong Kong' 'Isle of Man' 'Jersey' 'Kosovo'\n",
      " 'Lesotho' 'Liechtenstein' 'Maldives' 'Mauritania' 'Monaco' 'Montserrat'\n",
      " 'Namibia' 'New Caledonia' 'Nigeria' 'Northern Mariana Islands'\n",
      " 'Palestine' 'Papua New Guinea' 'Puerto Rico' 'Rwanda'\n",
      " 'Saint Kitts and Nevis' 'San Marino' 'Senegal' 'Sierra Leone'\n",
      " 'Sint Maarten (Dutch part)' 'Somalia' 'South Sudan' 'Syria' 'Taiwan'\n",
      " 'Turks and Caicos Islands' 'United States Virgin Islands' 'Vatican'\n",
      " 'Western Sahara' 'International']\n"
     ]
    }
   ],
   "source": [
    "# CHECK\n",
    "#covid.isnull().sum()\n",
    "# Rows containing Null values\n",
    "null_rows = covid[covid.isnull().any(axis=1)]\n",
    "# Count of rows containing Null values\n",
    "len(null_rows) #=4754  # Correct! Success!\n",
    "len(covid['location'].unique()) # The count of locations is 212\n",
    "null_locs = null_rows['location'].unique()\n",
    "print(null_locs)\n",
    "#len(null_locs) # The count of locations having null values is 55"
   ]
  },
  {
   "cell_type": "code",
   "execution_count": 13,
   "id": "65245899",
   "metadata": {},
   "outputs": [],
   "source": [
    "# CHECK\n",
    "# I have found out the number of entries for each location as abc.values or a plot far above."
   ]
  },
  {
   "cell_type": "code",
   "execution_count": 14,
   "id": "ef324c57",
   "metadata": {},
   "outputs": [],
   "source": [
    "# GOALS:\n",
    "# - Dates should be in order and should not repeat"
   ]
  },
  {
   "cell_type": "code",
   "execution_count": 15,
   "id": "6d48a5c8",
   "metadata": {},
   "outputs": [],
   "source": [
    "# CHECK\n",
    "# Which locations have all the rows containing Null values\n",
    "for loc in null_locs:\n",
    "    df1 = covid[covid['location'] == loc]\n",
    "    df2 = null_rows[null_rows['location'] == loc]\n",
    "    if df1.equals(df2) == False:\n",
    "        print(loc, df1.equals(df2)) \n",
    "    # No output means no locations have less than 100% rows containing Null values."
   ]
  },
  {
   "cell_type": "code",
   "execution_count": 16,
   "id": "cae0df3b",
   "metadata": {},
   "outputs": [],
   "source": [
    "# CHECK\n",
    "start_dates, end_dates = [], []\n",
    "for loc in locations:\n",
    "    series1 = covid['date'][covid['location'] == loc]\n",
    "    if series1.duplicated().any() == True:\n",
    "        print(loc, 'contains duplicated dates')\n",
    "        # No output means none of the locations contain duplicated dates\n",
    "    #print(series1.iloc[0], '     ', series1.iloc[-1])\n",
    "    start_dates.append(series1.iloc[0])\n",
    "    end_dates.append(series1.iloc[-1])"
   ]
  },
  {
   "cell_type": "code",
   "execution_count": 17,
   "id": "2fd4a5ac",
   "metadata": {
    "scrolled": true
   },
   "outputs": [
    {
     "name": "stdout",
     "output_type": "stream",
     "text": [
      "Unique Start dates:\n",
      "2019-12-31 00:00:00, Count: 68\n",
      "2020-01-31 00:00:00, Count: 1\n",
      "2020-02-07 00:00:00, Count: 2\n",
      "2020-02-26 00:00:00, Count: 1\n",
      "2020-02-29 00:00:00, Count: 1\n",
      "2020-03-01 00:00:00, Count: 1\n",
      "2020-03-02 00:00:00, Count: 1\n",
      "2020-03-03 00:00:00, Count: 6\n",
      "2020-03-04 00:00:00, Count: 6\n",
      "2020-03-05 00:00:00, Count: 3\n",
      "2020-03-06 00:00:00, Count: 4\n",
      "2020-03-07 00:00:00, Count: 7\n",
      "2020-03-08 00:00:00, Count: 3\n",
      "2020-03-09 00:00:00, Count: 2\n",
      "2020-03-10 00:00:00, Count: 3\n",
      "2020-03-11 00:00:00, Count: 2\n",
      "2020-03-12 00:00:00, Count: 6\n",
      "2020-03-13 00:00:00, Count: 8\n",
      "2020-03-14 00:00:00, Count: 3\n",
      "2020-03-15 00:00:00, Count: 12\n",
      "2020-03-16 00:00:00, Count: 5\n",
      "2020-03-17 00:00:00, Count: 5\n",
      "2020-03-18 00:00:00, Count: 3\n",
      "2020-03-19 00:00:00, Count: 7\n",
      "2020-03-20 00:00:00, Count: 11\n",
      "2020-03-21 00:00:00, Count: 8\n",
      "2020-03-22 00:00:00, Count: 4\n",
      "2020-03-23 00:00:00, Count: 4\n",
      "2020-03-24 00:00:00, Count: 2\n",
      "2020-03-25 00:00:00, Count: 3\n",
      "2020-03-26 00:00:00, Count: 2\n",
      "2020-03-27 00:00:00, Count: 3\n",
      "2020-03-28 00:00:00, Count: 1\n",
      "2020-03-31 00:00:00, Count: 1\n",
      "2020-04-01 00:00:00, Count: 3\n",
      "2020-04-02 00:00:00, Count: 1\n",
      "2020-04-03 00:00:00, Count: 1\n",
      "2020-04-04 00:00:00, Count: 1\n",
      "2020-04-06 00:00:00, Count: 1\n",
      "2020-04-09 00:00:00, Count: 1\n",
      "2020-04-10 00:00:00, Count: 1\n",
      "2020-04-26 00:00:00, Count: 1\n",
      "2020-05-01 00:00:00, Count: 1\n",
      "2020-05-02 00:00:00, Count: 1\n",
      "2020-05-15 00:00:00, Count: 1\n"
     ]
    }
   ],
   "source": [
    "# CHECK\n",
    "# covid['date'][covid['location'] == 'Andorra']\n",
    "#series1.iloc[-1]\n",
    "series1.iloc[0]  # pandas._libs.tslibs.timestamps.Timestamp\n",
    "#type(series1.iloc[0].to_pydatetime().date()) # datetime.date\n",
    "start_dates = np.array(start_dates) # Conversion because the unique function doesn't applies on list\n",
    "end_dates = np.array(end_dates)\n",
    "\n",
    "e1, e2 = np.unique(end_dates, return_counts=True)\n",
    "s1, s2 = np.unique(start_dates, return_counts=True)\n",
    "print('Unique Start dates:')\n",
    "for value, count in zip(s1, s2):\n",
    "    print(f\"{value}, Count: {count}\")\n",
    "#print('\\nUnique End dates:', e1, e2, sep='\\n')"
   ]
  },
  {
   "cell_type": "code",
   "execution_count": 18,
   "id": "3f2c2c1f",
   "metadata": {},
   "outputs": [
    {
     "data": {
      "text/plain": [
       "45"
      ]
     },
     "execution_count": 18,
     "metadata": {},
     "output_type": "execute_result"
    }
   ],
   "source": [
    "# CHECK\n",
    "len(s1) #=45\n",
    "#len(np.unique(abc.values)) #=57\n",
    "# We observe a significant difference between the count of unique location entries and the count of unique start dates."
   ]
  },
  {
   "cell_type": "code",
   "execution_count": 19,
   "id": "85f0c017",
   "metadata": {},
   "outputs": [],
   "source": [
    "locs1, locs2 = [], []"
   ]
  },
  {
   "cell_type": "code",
   "execution_count": 20,
   "id": "2494237b",
   "metadata": {
    "scrolled": true
   },
   "outputs": [
    {
     "name": "stdout",
     "output_type": "stream",
     "text": [
      "47 0\n"
     ]
    }
   ],
   "source": [
    "# CHECK\n",
    "i,j=0,0\n",
    "\n",
    "for loc in locations:\n",
    "    series1 = covid['hospital_beds_per_thousand'][covid['location'] == loc]\n",
    "    if np.isnan(series1).any():\n",
    "        i+=1\n",
    "        # print(loc, series1.unique())     # Uncomment this to check\n",
    "        locs1.append(loc)\n",
    "    if len(series1.unique()) != 1:\n",
    "        j+=1\n",
    "        print(loc, series1.unique())\n",
    "print(i,j)\n",
    "#print(locs1, '\\n', locs2)"
   ]
  },
  {
   "cell_type": "code",
   "execution_count": 21,
   "id": "ec6db18a",
   "metadata": {},
   "outputs": [
    {
     "data": {
      "text/plain": [
       "(True, array([ 1.,  2.,  3.,  5.,  6., nan]))"
      ]
     },
     "execution_count": 21,
     "metadata": {},
     "output_type": "execute_result"
    }
   ],
   "source": [
    "# ROUGH\n",
    "abc = np.array([1,2,3,np.nan,2,5,6,3])\n",
    "np.isnan(abc).any(), np.unique(abc)\n",
    "#len(series1) # all 64 null values in the population column belongs to \"International\" location"
   ]
  },
  {
   "cell_type": "code",
   "execution_count": 22,
   "id": "d34123df",
   "metadata": {},
   "outputs": [],
   "source": [
    "# OBSERVATIONS:\n",
    "\n",
    "# Single unique values in Population.\n",
    "# Single unique values in aged_65_older_percent.\n",
    "# Single unique values in gdp_per_capita.\n",
    "# Single unique values in hospital_beds_per_thousand.\n",
    "\n",
    "\n",
    "# Only \"International\" location has all Null population values.\n",
    "# 28 locations have all Null \"aged_65_older_percent\" values.\n",
    "# 28 locations have all Null \"gdp_per_capita\" values.\n",
    "    # All of these 28 locations are not same between \"aged_65_older_percent\" and \"gdp_per_capita\"\n",
    "# 47 locations have all Null \"hospital_beds_per_thousand\" values."
   ]
  },
  {
   "cell_type": "code",
   "execution_count": 23,
   "id": "39d2eb23",
   "metadata": {},
   "outputs": [],
   "source": [
    "# CHECK\n",
    "symm_diff = list(set(locs1) ^ set(locs2)) # Symmetric difference\n",
    "#list(set(locs1) & set(symm_diff)) # Intersection1\n",
    "#list(set(locs2) & set(symm_diff)) # Intersection2"
   ]
  },
  {
   "cell_type": "code",
   "execution_count": 24,
   "id": "c3a43195",
   "metadata": {},
   "outputs": [],
   "source": [
    "#1. As there only a single unique value for each location in the last four columns, \n",
    "#we can easily simplify the last four columns\n",
    "#2. The loc_info dataframe will have the location column (as a key) and the last four columns."
   ]
  },
  {
   "cell_type": "code",
   "execution_count": 25,
   "id": "1ac9d620",
   "metadata": {},
   "outputs": [
    {
     "data": {
      "text/html": [
       "<div>\n",
       "<style scoped>\n",
       "    .dataframe tbody tr th:only-of-type {\n",
       "        vertical-align: middle;\n",
       "    }\n",
       "\n",
       "    .dataframe tbody tr th {\n",
       "        vertical-align: top;\n",
       "    }\n",
       "\n",
       "    .dataframe thead th {\n",
       "        text-align: right;\n",
       "    }\n",
       "</style>\n",
       "<table border=\"1\" class=\"dataframe\">\n",
       "  <thead>\n",
       "    <tr style=\"text-align: right;\">\n",
       "      <th></th>\n",
       "      <th>location</th>\n",
       "      <th>date</th>\n",
       "      <th>new_cases</th>\n",
       "      <th>new_deaths</th>\n",
       "    </tr>\n",
       "  </thead>\n",
       "  <tbody>\n",
       "    <tr>\n",
       "      <th>0</th>\n",
       "      <td>Afghanistan</td>\n",
       "      <td>2019-12-31</td>\n",
       "      <td>0</td>\n",
       "      <td>0</td>\n",
       "    </tr>\n",
       "    <tr>\n",
       "      <th>1</th>\n",
       "      <td>Afghanistan</td>\n",
       "      <td>2020-01-01</td>\n",
       "      <td>0</td>\n",
       "      <td>0</td>\n",
       "    </tr>\n",
       "    <tr>\n",
       "      <th>2</th>\n",
       "      <td>Afghanistan</td>\n",
       "      <td>2020-01-02</td>\n",
       "      <td>0</td>\n",
       "      <td>0</td>\n",
       "    </tr>\n",
       "    <tr>\n",
       "      <th>3</th>\n",
       "      <td>Afghanistan</td>\n",
       "      <td>2020-01-03</td>\n",
       "      <td>0</td>\n",
       "      <td>0</td>\n",
       "    </tr>\n",
       "    <tr>\n",
       "      <th>4</th>\n",
       "      <td>Afghanistan</td>\n",
       "      <td>2020-01-04</td>\n",
       "      <td>0</td>\n",
       "      <td>0</td>\n",
       "    </tr>\n",
       "  </tbody>\n",
       "</table>\n",
       "</div>"
      ],
      "text/plain": [
       "      location       date  new_cases  new_deaths\n",
       "0  Afghanistan 2019-12-31          0           0\n",
       "1  Afghanistan 2020-01-01          0           0\n",
       "2  Afghanistan 2020-01-02          0           0\n",
       "3  Afghanistan 2020-01-03          0           0\n",
       "4  Afghanistan 2020-01-04          0           0"
      ]
     },
     "execution_count": 25,
     "metadata": {},
     "output_type": "execute_result"
    }
   ],
   "source": [
    "covid_base = covid[['location', 'date', 'new_cases', 'new_deaths']]  # Me: use double brackets for multiple columns\n",
    "covid_base.head()"
   ]
  },
  {
   "cell_type": "code",
   "execution_count": 26,
   "id": "646fe915",
   "metadata": {},
   "outputs": [],
   "source": [
    "#covid_base.isnull().sum()\n",
    "#covid.shape #(23082, 8)"
   ]
  },
  {
   "cell_type": "code",
   "execution_count": null,
   "id": "fc3f721b",
   "metadata": {},
   "outputs": [],
   "source": []
  },
  {
   "cell_type": "code",
   "execution_count": 27,
   "id": "432a7fb9",
   "metadata": {},
   "outputs": [
    {
     "data": {
      "text/html": [
       "<div>\n",
       "<style scoped>\n",
       "    .dataframe tbody tr th:only-of-type {\n",
       "        vertical-align: middle;\n",
       "    }\n",
       "\n",
       "    .dataframe tbody tr th {\n",
       "        vertical-align: top;\n",
       "    }\n",
       "\n",
       "    .dataframe thead th {\n",
       "        text-align: right;\n",
       "    }\n",
       "</style>\n",
       "<table border=\"1\" class=\"dataframe\">\n",
       "  <thead>\n",
       "    <tr style=\"text-align: right;\">\n",
       "      <th></th>\n",
       "      <th>location</th>\n",
       "      <th>date</th>\n",
       "      <th>new_cases</th>\n",
       "      <th>new_deaths</th>\n",
       "      <th>population</th>\n",
       "      <th>aged_65_older_percent</th>\n",
       "      <th>gdp_per_capita</th>\n",
       "      <th>hospital_beds_per_thousand</th>\n",
       "    </tr>\n",
       "  </thead>\n",
       "  <tbody>\n",
       "    <tr>\n",
       "      <th>0</th>\n",
       "      <td>Afghanistan</td>\n",
       "      <td>2019-12-31</td>\n",
       "      <td>0</td>\n",
       "      <td>0</td>\n",
       "      <td>3.892834e+07</td>\n",
       "      <td>2.581</td>\n",
       "      <td>1803.987</td>\n",
       "      <td>0.500</td>\n",
       "    </tr>\n",
       "    <tr>\n",
       "      <th>1</th>\n",
       "      <td>Albania</td>\n",
       "      <td>2020-03-09</td>\n",
       "      <td>2</td>\n",
       "      <td>0</td>\n",
       "      <td>2.877800e+06</td>\n",
       "      <td>13.188</td>\n",
       "      <td>11803.431</td>\n",
       "      <td>2.890</td>\n",
       "    </tr>\n",
       "    <tr>\n",
       "      <th>2</th>\n",
       "      <td>Algeria</td>\n",
       "      <td>2019-12-31</td>\n",
       "      <td>0</td>\n",
       "      <td>0</td>\n",
       "      <td>4.385104e+07</td>\n",
       "      <td>6.211</td>\n",
       "      <td>13913.839</td>\n",
       "      <td>1.900</td>\n",
       "    </tr>\n",
       "    <tr>\n",
       "      <th>3</th>\n",
       "      <td>Andorra</td>\n",
       "      <td>2020-03-03</td>\n",
       "      <td>1</td>\n",
       "      <td>0</td>\n",
       "      <td>7.726500e+04</td>\n",
       "      <td>NaN</td>\n",
       "      <td>NaN</td>\n",
       "      <td>NaN</td>\n",
       "    </tr>\n",
       "    <tr>\n",
       "      <th>4</th>\n",
       "      <td>Angola</td>\n",
       "      <td>2020-03-22</td>\n",
       "      <td>2</td>\n",
       "      <td>0</td>\n",
       "      <td>3.286627e+07</td>\n",
       "      <td>2.405</td>\n",
       "      <td>5819.495</td>\n",
       "      <td>NaN</td>\n",
       "    </tr>\n",
       "    <tr>\n",
       "      <th>...</th>\n",
       "      <td>...</td>\n",
       "      <td>...</td>\n",
       "      <td>...</td>\n",
       "      <td>...</td>\n",
       "      <td>...</td>\n",
       "      <td>...</td>\n",
       "      <td>...</td>\n",
       "      <td>...</td>\n",
       "    </tr>\n",
       "    <tr>\n",
       "      <th>207</th>\n",
       "      <td>Yemen</td>\n",
       "      <td>2020-04-10</td>\n",
       "      <td>1</td>\n",
       "      <td>0</td>\n",
       "      <td>2.982597e+07</td>\n",
       "      <td>2.922</td>\n",
       "      <td>1479.147</td>\n",
       "      <td>0.700</td>\n",
       "    </tr>\n",
       "    <tr>\n",
       "      <th>208</th>\n",
       "      <td>Zambia</td>\n",
       "      <td>2020-03-19</td>\n",
       "      <td>2</td>\n",
       "      <td>0</td>\n",
       "      <td>1.838396e+07</td>\n",
       "      <td>2.480</td>\n",
       "      <td>3689.251</td>\n",
       "      <td>2.000</td>\n",
       "    </tr>\n",
       "    <tr>\n",
       "      <th>209</th>\n",
       "      <td>Zimbabwe</td>\n",
       "      <td>2020-03-21</td>\n",
       "      <td>1</td>\n",
       "      <td>0</td>\n",
       "      <td>1.486293e+07</td>\n",
       "      <td>2.822</td>\n",
       "      <td>1899.775</td>\n",
       "      <td>1.700</td>\n",
       "    </tr>\n",
       "    <tr>\n",
       "      <th>210</th>\n",
       "      <td>World</td>\n",
       "      <td>2019-12-31</td>\n",
       "      <td>27</td>\n",
       "      <td>0</td>\n",
       "      <td>7.794799e+09</td>\n",
       "      <td>8.696</td>\n",
       "      <td>15469.207</td>\n",
       "      <td>2.705</td>\n",
       "    </tr>\n",
       "    <tr>\n",
       "      <th>211</th>\n",
       "      <td>International</td>\n",
       "      <td>2019-12-31</td>\n",
       "      <td>0</td>\n",
       "      <td>0</td>\n",
       "      <td>NaN</td>\n",
       "      <td>NaN</td>\n",
       "      <td>NaN</td>\n",
       "      <td>NaN</td>\n",
       "    </tr>\n",
       "  </tbody>\n",
       "</table>\n",
       "<p>212 rows × 8 columns</p>\n",
       "</div>"
      ],
      "text/plain": [
       "          location       date new_cases new_deaths    population  \\\n",
       "0      Afghanistan 2019-12-31         0          0  3.892834e+07   \n",
       "1          Albania 2020-03-09         2          0  2.877800e+06   \n",
       "2          Algeria 2019-12-31         0          0  4.385104e+07   \n",
       "3          Andorra 2020-03-03         1          0  7.726500e+04   \n",
       "4           Angola 2020-03-22         2          0  3.286627e+07   \n",
       "..             ...        ...       ...        ...           ...   \n",
       "207          Yemen 2020-04-10         1          0  2.982597e+07   \n",
       "208         Zambia 2020-03-19         2          0  1.838396e+07   \n",
       "209       Zimbabwe 2020-03-21         1          0  1.486293e+07   \n",
       "210          World 2019-12-31        27          0  7.794799e+09   \n",
       "211  International 2019-12-31         0          0           NaN   \n",
       "\n",
       "     aged_65_older_percent  gdp_per_capita  hospital_beds_per_thousand  \n",
       "0                    2.581        1803.987                       0.500  \n",
       "1                   13.188       11803.431                       2.890  \n",
       "2                    6.211       13913.839                       1.900  \n",
       "3                      NaN             NaN                         NaN  \n",
       "4                    2.405        5819.495                         NaN  \n",
       "..                     ...             ...                         ...  \n",
       "207                  2.922        1479.147                       0.700  \n",
       "208                  2.480        3689.251                       2.000  \n",
       "209                  2.822        1899.775                       1.700  \n",
       "210                  8.696       15469.207                       2.705  \n",
       "211                    NaN             NaN                         NaN  \n",
       "\n",
       "[212 rows x 8 columns]"
      ]
     },
     "execution_count": 27,
     "metadata": {},
     "output_type": "execute_result"
    }
   ],
   "source": [
    "loc_info_raw = pd.DataFrame(columns = covid.columns)\n",
    "loc_info_raw\n",
    "\n",
    "for loc in locations:\n",
    "    series1 = covid['location'][covid['location'] == loc]\n",
    "    #print(series1.index[0]) # just for testing\n",
    "    loc_info_raw = loc_info_raw.append(covid.loc[series1.index[0]], ignore_index=True)\n",
    "    \n",
    "#series1 = covid['location'][covid['location'] == 'Pakistan'] #rough\n",
    "loc_info_raw"
   ]
  },
  {
   "cell_type": "code",
   "execution_count": 28,
   "id": "a89ba0fa",
   "metadata": {},
   "outputs": [],
   "source": [
    "# ROUGH\n",
    "#covid.columns\n",
    "#covid.loc[0]"
   ]
  },
  {
   "cell_type": "code",
   "execution_count": 29,
   "id": "6203c839",
   "metadata": {},
   "outputs": [
    {
     "data": {
      "text/html": [
       "<div>\n",
       "<style scoped>\n",
       "    .dataframe tbody tr th:only-of-type {\n",
       "        vertical-align: middle;\n",
       "    }\n",
       "\n",
       "    .dataframe tbody tr th {\n",
       "        vertical-align: top;\n",
       "    }\n",
       "\n",
       "    .dataframe thead th {\n",
       "        text-align: right;\n",
       "    }\n",
       "</style>\n",
       "<table border=\"1\" class=\"dataframe\">\n",
       "  <thead>\n",
       "    <tr style=\"text-align: right;\">\n",
       "      <th></th>\n",
       "      <th>location</th>\n",
       "      <th>population</th>\n",
       "      <th>aged_65_older_percent</th>\n",
       "      <th>gdp_per_capita</th>\n",
       "      <th>hospital_beds_per_thousand</th>\n",
       "    </tr>\n",
       "  </thead>\n",
       "  <tbody>\n",
       "    <tr>\n",
       "      <th>0</th>\n",
       "      <td>Afghanistan</td>\n",
       "      <td>3.892834e+07</td>\n",
       "      <td>2.581</td>\n",
       "      <td>1803.987</td>\n",
       "      <td>0.500</td>\n",
       "    </tr>\n",
       "    <tr>\n",
       "      <th>1</th>\n",
       "      <td>Albania</td>\n",
       "      <td>2.877800e+06</td>\n",
       "      <td>13.188</td>\n",
       "      <td>11803.431</td>\n",
       "      <td>2.890</td>\n",
       "    </tr>\n",
       "    <tr>\n",
       "      <th>2</th>\n",
       "      <td>Algeria</td>\n",
       "      <td>4.385104e+07</td>\n",
       "      <td>6.211</td>\n",
       "      <td>13913.839</td>\n",
       "      <td>1.900</td>\n",
       "    </tr>\n",
       "    <tr>\n",
       "      <th>3</th>\n",
       "      <td>Andorra</td>\n",
       "      <td>7.726500e+04</td>\n",
       "      <td>NaN</td>\n",
       "      <td>NaN</td>\n",
       "      <td>NaN</td>\n",
       "    </tr>\n",
       "    <tr>\n",
       "      <th>4</th>\n",
       "      <td>Angola</td>\n",
       "      <td>3.286627e+07</td>\n",
       "      <td>2.405</td>\n",
       "      <td>5819.495</td>\n",
       "      <td>NaN</td>\n",
       "    </tr>\n",
       "    <tr>\n",
       "      <th>...</th>\n",
       "      <td>...</td>\n",
       "      <td>...</td>\n",
       "      <td>...</td>\n",
       "      <td>...</td>\n",
       "      <td>...</td>\n",
       "    </tr>\n",
       "    <tr>\n",
       "      <th>207</th>\n",
       "      <td>Yemen</td>\n",
       "      <td>2.982597e+07</td>\n",
       "      <td>2.922</td>\n",
       "      <td>1479.147</td>\n",
       "      <td>0.700</td>\n",
       "    </tr>\n",
       "    <tr>\n",
       "      <th>208</th>\n",
       "      <td>Zambia</td>\n",
       "      <td>1.838396e+07</td>\n",
       "      <td>2.480</td>\n",
       "      <td>3689.251</td>\n",
       "      <td>2.000</td>\n",
       "    </tr>\n",
       "    <tr>\n",
       "      <th>209</th>\n",
       "      <td>Zimbabwe</td>\n",
       "      <td>1.486293e+07</td>\n",
       "      <td>2.822</td>\n",
       "      <td>1899.775</td>\n",
       "      <td>1.700</td>\n",
       "    </tr>\n",
       "    <tr>\n",
       "      <th>210</th>\n",
       "      <td>World</td>\n",
       "      <td>7.794799e+09</td>\n",
       "      <td>8.696</td>\n",
       "      <td>15469.207</td>\n",
       "      <td>2.705</td>\n",
       "    </tr>\n",
       "    <tr>\n",
       "      <th>211</th>\n",
       "      <td>International</td>\n",
       "      <td>NaN</td>\n",
       "      <td>NaN</td>\n",
       "      <td>NaN</td>\n",
       "      <td>NaN</td>\n",
       "    </tr>\n",
       "  </tbody>\n",
       "</table>\n",
       "<p>212 rows × 5 columns</p>\n",
       "</div>"
      ],
      "text/plain": [
       "          location    population  aged_65_older_percent  gdp_per_capita  \\\n",
       "0      Afghanistan  3.892834e+07                  2.581        1803.987   \n",
       "1          Albania  2.877800e+06                 13.188       11803.431   \n",
       "2          Algeria  4.385104e+07                  6.211       13913.839   \n",
       "3          Andorra  7.726500e+04                    NaN             NaN   \n",
       "4           Angola  3.286627e+07                  2.405        5819.495   \n",
       "..             ...           ...                    ...             ...   \n",
       "207          Yemen  2.982597e+07                  2.922        1479.147   \n",
       "208         Zambia  1.838396e+07                  2.480        3689.251   \n",
       "209       Zimbabwe  1.486293e+07                  2.822        1899.775   \n",
       "210          World  7.794799e+09                  8.696       15469.207   \n",
       "211  International           NaN                    NaN             NaN   \n",
       "\n",
       "     hospital_beds_per_thousand  \n",
       "0                         0.500  \n",
       "1                         2.890  \n",
       "2                         1.900  \n",
       "3                           NaN  \n",
       "4                           NaN  \n",
       "..                          ...  \n",
       "207                       0.700  \n",
       "208                       2.000  \n",
       "209                       1.700  \n",
       "210                       2.705  \n",
       "211                         NaN  \n",
       "\n",
       "[212 rows x 5 columns]"
      ]
     },
     "execution_count": 29,
     "metadata": {},
     "output_type": "execute_result"
    }
   ],
   "source": [
    "loc_info = loc_info_raw.iloc[:, [0, -4, -3, -2, -1]]\n",
    "loc_info"
   ]
  },
  {
   "cell_type": "markdown",
   "id": "14d1987f",
   "metadata": {},
   "source": [
    "#### Now we have three important dataframes:\n",
    "1. covid\n",
    "2. covid_base\n",
    "3. loc_info (location is the key)"
   ]
  },
  {
   "cell_type": "code",
   "execution_count": 30,
   "id": "877a7f16",
   "metadata": {},
   "outputs": [
    {
     "name": "stdout",
     "output_type": "stream",
     "text": [
      "<class 'pandas.core.frame.DataFrame'>\n",
      "RangeIndex: 23082 entries, 0 to 23081\n",
      "Data columns (total 4 columns):\n",
      " #   Column      Non-Null Count  Dtype         \n",
      "---  ------      --------------  -----         \n",
      " 0   location    23082 non-null  object        \n",
      " 1   date        23082 non-null  datetime64[ns]\n",
      " 2   new_cases   23082 non-null  int64         \n",
      " 3   new_deaths  23082 non-null  int64         \n",
      "dtypes: datetime64[ns](1), int64(2), object(1)\n",
      "memory usage: 721.4+ KB\n"
     ]
    }
   ],
   "source": [
    "covid_base.info()"
   ]
  },
  {
   "cell_type": "code",
   "execution_count": 31,
   "id": "74499da9",
   "metadata": {},
   "outputs": [
    {
     "name": "stdout",
     "output_type": "stream",
     "text": [
      "<class 'pandas.core.frame.DataFrame'>\n",
      "RangeIndex: 212 entries, 0 to 211\n",
      "Data columns (total 5 columns):\n",
      " #   Column                      Non-Null Count  Dtype  \n",
      "---  ------                      --------------  -----  \n",
      " 0   location                    212 non-null    object \n",
      " 1   population                  211 non-null    float64\n",
      " 2   aged_65_older_percent       184 non-null    float64\n",
      " 3   gdp_per_capita              184 non-null    float64\n",
      " 4   hospital_beds_per_thousand  165 non-null    float64\n",
      "dtypes: float64(4), object(1)\n",
      "memory usage: 8.4+ KB\n"
     ]
    }
   ],
   "source": [
    "loc_info.info()"
   ]
  },
  {
   "cell_type": "code",
   "execution_count": 32,
   "id": "39835f5c",
   "metadata": {},
   "outputs": [],
   "source": [
    "# CHECK\n",
    "#loc_info[loc_info['population'].isnull()]"
   ]
  },
  {
   "cell_type": "code",
   "execution_count": 33,
   "id": "608e267d",
   "metadata": {},
   "outputs": [],
   "source": [
    "# ROUGH:\n",
    "# SOlve this problem: Why \"International has come two times?\" # No problem now"
   ]
  },
  {
   "cell_type": "code",
   "execution_count": 34,
   "id": "800d0d24",
   "metadata": {},
   "outputs": [],
   "source": [
    "# OBSERVATION:\n",
    "# datatypes are ok.\n",
    "\n",
    "# 1 null value in population\n",
    "# 28, 28 null values in aged_65_older_percent and gdp_per_capita\n",
    "# 47 null values in hospital_beds_per_thousand"
   ]
  },
  {
   "cell_type": "code",
   "execution_count": 35,
   "id": "fa149a8e",
   "metadata": {},
   "outputs": [
    {
     "data": {
      "text/html": [
       "<div>\n",
       "<style scoped>\n",
       "    .dataframe tbody tr th:only-of-type {\n",
       "        vertical-align: middle;\n",
       "    }\n",
       "\n",
       "    .dataframe tbody tr th {\n",
       "        vertical-align: top;\n",
       "    }\n",
       "\n",
       "    .dataframe thead th {\n",
       "        text-align: right;\n",
       "    }\n",
       "</style>\n",
       "<table border=\"1\" class=\"dataframe\">\n",
       "  <thead>\n",
       "    <tr style=\"text-align: right;\">\n",
       "      <th></th>\n",
       "      <th>population</th>\n",
       "      <th>aged_65_older_percent</th>\n",
       "      <th>gdp_per_capita</th>\n",
       "      <th>hospital_beds_per_thousand</th>\n",
       "    </tr>\n",
       "  </thead>\n",
       "  <tbody>\n",
       "    <tr>\n",
       "      <th>count</th>\n",
       "      <td>2.110000e+02</td>\n",
       "      <td>184.000000</td>\n",
       "      <td>184.000000</td>\n",
       "      <td>165.000000</td>\n",
       "    </tr>\n",
       "    <tr>\n",
       "      <th>mean</th>\n",
       "      <td>7.370985e+07</td>\n",
       "      <td>8.847957</td>\n",
       "      <td>19464.082478</td>\n",
       "      <td>3.010806</td>\n",
       "    </tr>\n",
       "    <tr>\n",
       "      <th>std</th>\n",
       "      <td>5.526716e+08</td>\n",
       "      <td>6.196086</td>\n",
       "      <td>19768.790977</td>\n",
       "      <td>2.457507</td>\n",
       "    </tr>\n",
       "    <tr>\n",
       "      <th>min</th>\n",
       "      <td>8.090000e+02</td>\n",
       "      <td>1.144000</td>\n",
       "      <td>661.240000</td>\n",
       "      <td>0.100000</td>\n",
       "    </tr>\n",
       "    <tr>\n",
       "      <th>25%</th>\n",
       "      <td>1.074083e+06</td>\n",
       "      <td>3.459750</td>\n",
       "      <td>4522.973000</td>\n",
       "      <td>1.300000</td>\n",
       "    </tr>\n",
       "    <tr>\n",
       "      <th>50%</th>\n",
       "      <td>6.948445e+06</td>\n",
       "      <td>6.736500</td>\n",
       "      <td>13183.081500</td>\n",
       "      <td>2.397000</td>\n",
       "    </tr>\n",
       "    <tr>\n",
       "      <th>75%</th>\n",
       "      <td>2.646207e+07</td>\n",
       "      <td>14.341750</td>\n",
       "      <td>28143.439750</td>\n",
       "      <td>3.861000</td>\n",
       "    </tr>\n",
       "    <tr>\n",
       "      <th>max</th>\n",
       "      <td>7.794799e+09</td>\n",
       "      <td>27.049000</td>\n",
       "      <td>116935.600000</td>\n",
       "      <td>13.800000</td>\n",
       "    </tr>\n",
       "  </tbody>\n",
       "</table>\n",
       "</div>"
      ],
      "text/plain": [
       "         population  aged_65_older_percent  gdp_per_capita  \\\n",
       "count  2.110000e+02             184.000000      184.000000   \n",
       "mean   7.370985e+07               8.847957    19464.082478   \n",
       "std    5.526716e+08               6.196086    19768.790977   \n",
       "min    8.090000e+02               1.144000      661.240000   \n",
       "25%    1.074083e+06               3.459750     4522.973000   \n",
       "50%    6.948445e+06               6.736500    13183.081500   \n",
       "75%    2.646207e+07              14.341750    28143.439750   \n",
       "max    7.794799e+09              27.049000   116935.600000   \n",
       "\n",
       "       hospital_beds_per_thousand  \n",
       "count                  165.000000  \n",
       "mean                     3.010806  \n",
       "std                      2.457507  \n",
       "min                      0.100000  \n",
       "25%                      1.300000  \n",
       "50%                      2.397000  \n",
       "75%                      3.861000  \n",
       "max                     13.800000  "
      ]
     },
     "execution_count": 35,
     "metadata": {},
     "output_type": "execute_result"
    }
   ],
   "source": [
    "loc_info.describe()"
   ]
  },
  {
   "cell_type": "markdown",
   "id": "36de9391",
   "metadata": {},
   "source": [
    "### Sort Values"
   ]
  },
  {
   "cell_type": "code",
   "execution_count": 36,
   "id": "722d2bec",
   "metadata": {},
   "outputs": [],
   "source": [
    "#loc_info.sort_values(by = ['population'], ascending = False).head(20)\n",
    "#loc_info.sort_values(by = ['aged_65_older_percent'], ascending = False)[:-27].tail(10) # sliced because NaN values are not required.\n",
    "#loc_info.sort_values(by = ['gdp_per_capita'], ascending = False)[:-27].head()"
   ]
  },
  {
   "cell_type": "code",
   "execution_count": 37,
   "id": "d0536833",
   "metadata": {},
   "outputs": [],
   "source": [
    "# Top 5 records with the highest deaths and cases.\n",
    "covid_base_no_world = covid_base[covid_base['location'] != 'World']\n",
    "#covid_base_no_world.sort_values(by = ['new_cases'], ascending = False).head(50)\n",
    "#covid_base_no_world.sort_values(by = ['new_deaths'], ascending = False).head(50)\n",
    "\n",
    "# There are around 14 negative values in new_cases and 2 in new_deaths\n",
    "# United States has the highest record of deaths on 16/Apr/2020 i.e. 4928\n",
    "# United States has the highest record of cases on 26/Apr/2020 i.e. 48529"
   ]
  },
  {
   "cell_type": "code",
   "execution_count": 38,
   "id": "60b0c09a",
   "metadata": {},
   "outputs": [],
   "source": [
    "covid_no_world = covid[covid['location'] != 'World']"
   ]
  },
  {
   "cell_type": "markdown",
   "id": "54980c10",
   "metadata": {},
   "source": [
    "### Data distribution plot"
   ]
  },
  {
   "cell_type": "code",
   "execution_count": 39,
   "id": "72c2b8cf",
   "metadata": {},
   "outputs": [
    {
     "data": {
      "image/png": "[encoded data removed]",
      "text/plain": [
       "<Figure size 576x288 with 1 Axes>"
      ]
     },
     "metadata": {
      "needs_background": "light"
     },
     "output_type": "display_data"
    },
    {
     "data": {
      "image/png": "[encoded data removed]",
      "text/plain": [
       "<Figure size 576x288 with 1 Axes>"
      ]
     },
     "metadata": {
      "needs_background": "light"
     },
     "output_type": "display_data"
    }
   ],
   "source": [
    "columns_to_plot = ['new_cases', 'new_deaths']\n",
    "\n",
    "# Plot histograms and density plots for selected columns\n",
    "for column in columns_to_plot:\n",
    "    plt.figure(figsize=(8, 4))\n",
    "    # Histogram - NOTE: using the covid data excluding the 'world' location\n",
    "    plt.hist(covid_no_world[column], bins=40, color='skyblue', edgecolor='black')\n",
    "    plt.title(f'Histogram of {column}')\n",
    "    plt.xlabel(column)\n",
    "    plt.ylabel('Frequency')\n",
    "    plt.tight_layout()\n",
    "    #plt.show()\n",
    "    #display(plt.gcf()) # To view one plot at a time\n",
    "\n",
    "\n",
    "# Omit \"World\" data. No need to omit \"international\"\n",
    "    \n",
    "    \n",
    "'''\n",
    "    # Density plot (Kernel Density Estimate - KDE)\n",
    "    plt.subplot(1, 2, 2)\n",
    "    cardio_full[column].plot(kind='density', color='orange')\n",
    "    plt.title(f'Density Plot of {column}')\n",
    "    plt.xlabel(column)\n",
    "    plt.ylabel('Density')\n",
    "'''\n",
    "pass"
   ]
  },
  {
   "cell_type": "code",
   "execution_count": 40,
   "id": "c561ed79",
   "metadata": {},
   "outputs": [],
   "source": [
    "loc_info_no_world = loc_info[loc_info['location'] != 'World']"
   ]
  },
  {
   "cell_type": "code",
   "execution_count": 41,
   "id": "c55e6eed",
   "metadata": {
    "scrolled": true
   },
   "outputs": [
    {
     "name": "stderr",
     "output_type": "stream",
     "text": [
      "F:\\Anaconda\\lib\\site-packages\\numpy\\lib\\histograms.py:839: RuntimeWarning: invalid value encountered in greater_equal\n",
      "  keep = (tmp_a >= first_edge)\n",
      "F:\\Anaconda\\lib\\site-packages\\numpy\\lib\\histograms.py:840: RuntimeWarning: invalid value encountered in less_equal\n",
      "  keep &= (tmp_a <= last_edge)\n"
     ]
    },
    {
     "data": {
      "image/png": "[encoded data removed]",
      "text/plain": [
       "<Figure size 576x288 with 1 Axes>"
      ]
     },
     "metadata": {
      "needs_background": "light"
     },
     "output_type": "display_data"
    },
    {
     "data": {
      "image/png": "[encoded data removed]",
      "text/plain": [
       "<Figure size 576x288 with 1 Axes>"
      ]
     },
     "metadata": {
      "needs_background": "light"
     },
     "output_type": "display_data"
    },
    {
     "data": {
      "image/png": "[encoded data removed]",
      "text/plain": [
       "<Figure size 576x288 with 1 Axes>"
      ]
     },
     "metadata": {
      "needs_background": "light"
     },
     "output_type": "display_data"
    },
    {
     "data": {
      "image/png": "[encoded data removed]",
      "text/plain": [
       "<Figure size 576x288 with 1 Axes>"
      ]
     },
     "metadata": {
      "needs_background": "light"
     },
     "output_type": "display_data"
    }
   ],
   "source": [
    "columns_to_plot = ['population', 'aged_65_older_percent', 'gdp_per_capita', 'hospital_beds_per_thousand']\n",
    "\n",
    "# Plot histograms and density plots for selected columns\n",
    "for column in columns_to_plot:\n",
    "    plt.figure(figsize=(8, 4))\n",
    "    # Histogram - NOTE: using the loc_info data excluding the 'world' location\n",
    "    plt.hist(loc_info_no_world[column], bins=40, color='skyblue', edgecolor='black')\n",
    "    plt.title(f'Histogram of {column}')\n",
    "    plt.xlabel(column)\n",
    "    plt.ylabel('Frequency')\n",
    "    plt.tight_layout()\n",
    "    \n",
    "# Extra NOTE: We can include 'World' for gdp_per_capita\n",
    "pass"
   ]
  },
  {
   "cell_type": "code",
   "execution_count": 42,
   "id": "250e4793",
   "metadata": {},
   "outputs": [],
   "source": [
    "# OBSERVATION:\n",
    "# Most of the countries (more than 160 out of 212) have low population\n",
    "# There are many countries with a high percentage of higher % of aged 65.\n",
    "# Most of the countries have very low GDP per capita. (This is shocking!)\n",
    "#Those having the highest (which are few of them), have a huge difference with the others. \n",
    "# Very few countries have more than \"8 beds\" per thousand people."
   ]
  },
  {
   "cell_type": "code",
   "execution_count": 43,
   "id": "f25a09d4",
   "metadata": {},
   "outputs": [],
   "source": [
    "# Got two new dataframes i.e. covid_no_world and loc_info_no_world\n",
    "# Me: no need to create density plot.\n",
    "# We can just check which locations have zero total cases and deaths in the range of given period.\n",
    "\n",
    "grouped_data = covid_base.groupby(['location']) # This is a kind of hierarchy\n",
    "cases_sum = grouped_data['new_cases'].sum()\n",
    "#cases_sum[cases_sum == 0] #= Only one location i.e. \"Hong Kong\"\n",
    "\n",
    "deaths_sum = grouped_data['new_deaths'].sum()\n",
    "#deaths_sum[deaths_sum == 0] #= len=28 countries"
   ]
  },
  {
   "cell_type": "code",
   "execution_count": 44,
   "id": "6fb79f74",
   "metadata": {},
   "outputs": [],
   "source": [
    "#covid_base[covid_base['location'] == 'Hong Kong'] # The date range is from 2020-01-31 till 2020-06-01"
   ]
  },
  {
   "cell_type": "markdown",
   "id": "19a5dbf0",
   "metadata": {},
   "source": [
    "### Correlation matrix 1"
   ]
  },
  {
   "cell_type": "code",
   "execution_count": 45,
   "id": "8446f8d5",
   "metadata": {},
   "outputs": [
    {
     "data": {
      "image/png": "[encoded data removed]",
      "text/plain": [
       "<Figure size 576x432 with 2 Axes>"
      ]
     },
     "metadata": {
      "needs_background": "light"
     },
     "output_type": "display_data"
    }
   ],
   "source": [
    "# Correlation plot\n",
    "# I want to plot 3 kinds of correlation plots\n",
    "\n",
    "correlation_matrix = covid_base.corr()\n",
    "plt.figure(figsize=(8, 6))\n",
    "sns.heatmap(correlation_matrix, annot=True, cmap='viridis', fmt=\".2f\", linewidths=.5)\n",
    "plt.title('Correlation Matrix')\n",
    "plt.show()"
   ]
  },
  {
   "cell_type": "code",
   "execution_count": 46,
   "id": "3b98b52d",
   "metadata": {},
   "outputs": [],
   "source": [
    "# OBSERVATION:\n",
    "# There is a 92% correlation between new_cases and new_deaths.\n",
    "# Correlation is not found for object and datetime based features.\n",
    "#covid_base.info()"
   ]
  },
  {
   "cell_type": "code",
   "execution_count": 47,
   "id": "ba70bf82",
   "metadata": {},
   "outputs": [
    {
     "data": {
      "text/plain": [
       "Timestamp('2020-02-20 21:03:23.773584896')"
      ]
     },
     "execution_count": 47,
     "metadata": {},
     "output_type": "execute_result"
    },
    {
     "data": {
      "image/png": "[encoded data removed]",
      "text/plain": [
       "<Figure size 1296x432 with 1 Axes>"
      ]
     },
     "metadata": {
      "needs_background": "light"
     },
     "output_type": "display_data"
    }
   ],
   "source": [
    "covid_base.head()\n",
    "date_minmax = covid_base.groupby('location')['date'].agg(['min', 'max'])\n",
    "plt.figure(figsize=(18, 6))\n",
    "plt.scatter(range(len(date_minmax)), date_minmax['min'])  # observe 'max' also\n",
    "# Open plot in a new tab\n",
    "\n",
    "date_minmax['min'].mean() # 2020-02-20\n",
    "# I want to go with 2020-03-03 or 2020-03-04"
   ]
  },
  {
   "cell_type": "code",
   "execution_count": 49,
   "id": "89ab4205",
   "metadata": {},
   "outputs": [
    {
     "data": {
      "text/plain": [
       "48"
      ]
     },
     "execution_count": 49,
     "metadata": {},
     "output_type": "execute_result"
    }
   ],
   "source": [
    "# ROUGH\n",
    "\n",
    "early_locs = []\n",
    "for loc in locations:\n",
    "    series4 = covid_base['date'][covid_base['location'] == loc]\n",
    "    if series4.isin(['2019-12-31']).any():\n",
    "        #early_locs.append(loc)\n",
    "        #print(len(series4))\n",
    "        if series4.isin(['2020-03-04']).any():\n",
    "            early_locs.append(loc)\n",
    "\n",
    "len(early_locs)"
   ]
  },
  {
   "cell_type": "code",
   "execution_count": 51,
   "id": "0c4cf055",
   "metadata": {},
   "outputs": [],
   "source": [
    "# INFO:\n",
    "# The 'date' has some missing values based on many locations\n",
    "# THEREFORE, I can't find the matching columns"
   ]
  },
  {
   "cell_type": "markdown",
   "id": "afeed732",
   "metadata": {},
   "source": [
    "### Correlation matrix 2"
   ]
  },
  {
   "cell_type": "code",
   "execution_count": 52,
   "id": "267bdc05",
   "metadata": {},
   "outputs": [
    {
     "data": {
      "image/png": "[encoded data removed]",
      "text/plain": [
       "<Figure size 576x432 with 2 Axes>"
      ]
     },
     "metadata": {
      "needs_background": "light"
     },
     "output_type": "display_data"
    }
   ],
   "source": [
    "# Correlation plot\n",
    "correlation_matrix = loc_info.corr()\n",
    "plt.figure(figsize=(8, 6))\n",
    "sns.heatmap(correlation_matrix, annot=True, cmap='viridis', fmt=\".2f\", linewidths=.5)\n",
    "plt.title('Correlation Matrix')\n",
    "plt.show()"
   ]
  },
  {
   "cell_type": "markdown",
   "id": "994b6eff",
   "metadata": {},
   "source": [
    "OBSERVATION:  \n",
    "1. 65% correlation between aged_65_older and hospital_beds\n",
    "2. 51% corr between gdp and aged_65_older\n",
    "3. 30% corr between gdp and hospital_beds"
   ]
  },
  {
   "cell_type": "markdown",
   "id": "2bcac70a",
   "metadata": {},
   "source": [
    "### PLAN\n",
    "Split the dataset  \n",
    "Clean the dataset  \n",
    "Describe  \n",
    "Value counts and unique [useless]  \n",
    "Histogram plot  \n",
    "Correlation plot  \n",
    "Other visualizations"
   ]
  },
  {
   "cell_type": "markdown",
   "id": "d689255c",
   "metadata": {},
   "source": [
    "#### PLAN:\n",
    "We can find a lot of insights between the dates, cases, and the deaths. \n",
    "\n",
    "#### PLAN:\n",
    "1. Compare the total cases and deaths between different locations - DONE\n",
    "2. What are the top five countries that experienced the highest growth in Corona cases and deaths per capita? - DONE\n",
    "3. Find how many locations have dates of daily frequency - DONE\n",
    "4. Aggregate the data based on months - DONE\n",
    "5. Draw pairplot between those columns which have high correlations  \n",
    "6. Find missing dates for any not_daily_freq_locs location - DONE\n",
    "7. Find the record for highest deaths/cases per day. - DONE\n",
    "8. We can check wrong values:  \n",
    "8a. Those values in which there is a big change from a value to zero.  \n",
    "9. Check which countries have the highest amount of missing dates?"
   ]
  },
  {
   "cell_type": "markdown",
   "id": "4730d512",
   "metadata": {},
   "source": [
    "### PLAN\n",
    "Bar plot  \n",
    "Groupby plot  \n",
    "Pivot table plot  \n",
    "Pairplot  "
   ]
  },
  {
   "cell_type": "code",
   "execution_count": 53,
   "id": "78baf5f5",
   "metadata": {},
   "outputs": [],
   "source": [
    "# Idea: We can do aggregation of dates by adding the missing dates if needed."
   ]
  },
  {
   "cell_type": "code",
   "execution_count": 54,
   "id": "23deaf69",
   "metadata": {},
   "outputs": [
    {
     "data": {
      "text/plain": [
       "(array([0., 1.]), array([ 76, 136], dtype=int64))"
      ]
     },
     "execution_count": 54,
     "metadata": {},
     "output_type": "execute_result"
    }
   ],
   "source": [
    "# How many locations have no missing values in the daily records:\n",
    "is_daily_frequency = np.array([])\n",
    "not_daily_freq_locs = []\n",
    "for loc in locations:\n",
    "    df3 = covid_base[covid_base['location'] == loc]\n",
    "    #df3['date'] = pd.to_datetime(df['date_column'])\n",
    "    frequency = pd.infer_freq(df3['date'])\n",
    "    is_daily_frequency = np.append(is_daily_frequency, frequency == 'D')\n",
    "    if frequency != 'D':\n",
    "        not_daily_freq_locs.append(loc)\n",
    "    \n",
    "np.unique(is_daily_frequency, return_counts = True)\n",
    "#not_daily_freq_locs\n",
    "\n",
    "#covid_base['date'][covid_base['location'] == 'Afghanistan'][:50]"
   ]
  },
  {
   "cell_type": "code",
   "execution_count": 55,
   "id": "c2ad8abb",
   "metadata": {},
   "outputs": [],
   "source": [
    "# OBSERVATION:\n",
    "# 136 locations(64%) out of 212 have the date on a daily frequency"
   ]
  },
  {
   "cell_type": "code",
   "execution_count": 56,
   "id": "525b3b1e",
   "metadata": {
    "scrolled": true
   },
   "outputs": [
    {
     "data": {
      "text/plain": [
       "<matplotlib.axes._subplots.AxesSubplot at 0x1760176edc8>"
      ]
     },
     "execution_count": 56,
     "metadata": {},
     "output_type": "execute_result"
    },
    {
     "data": {
      "image/png": "[encoded data removed]",
      "text/plain": [
       "<Figure size 720x288 with 1 Axes>"
      ]
     },
     "metadata": {
      "needs_background": "light"
     },
     "output_type": "display_data"
    },
    {
     "data": {
      "image/png": "[encoded data removed]",
      "text/plain": [
       "<Figure size 720x288 with 1 Axes>"
      ]
     },
     "metadata": {
      "needs_background": "light"
     },
     "output_type": "display_data"
    }
   ],
   "source": [
    "# Find total cases and total deaths for each location\n",
    "    \n",
    "covid_base_sum = covid_base.groupby('location').sum()\n",
    "sort1 = covid_base_sum['new_deaths'].sort_values(ascending = False).head(11) # Sorted output 1\n",
    "sort2 = covid_base_sum['new_cases'].sort_values(ascending = False).head(11) # Sorted output 2\n",
    "sort1 = sort1.drop(sort1.index[0])\n",
    "sort2 = sort2.drop(sort2.index[0])\n",
    "ratio_d = covid_base_sum['new_cases'].loc[sort1.index]\n",
    "ratio_d = sort1/ratio_d # Success!\n",
    "ratio_c = covid_base_sum['new_deaths'].loc[sort2.index]\n",
    "ratio_c = ratio_c/sort2\n",
    "\n",
    "#display(sort1, sort2) # display is better than print\n",
    "#display(ratio_d)\n",
    "\n",
    "plt.figure(figsize=(10, 4)); plt.title('Total deaths')\n",
    "sns.barplot(x=sort1.index, y=sort1.values) # :) # barplot doesn't sorts automatically.\n",
    "plt.figure(figsize=(10, 4)); plt.title('Total cases')\n",
    "sns.barplot(x=sort2.index, y=sort2.values)\n",
    "#sort1.plot(kind='bar') # Matplotlib plot is not colorful :("
   ]
  },
  {
   "cell_type": "code",
   "execution_count": 57,
   "id": "d0ffad7f",
   "metadata": {
    "scrolled": true
   },
   "outputs": [
    {
     "data": {
      "text/plain": [
       "<matplotlib.axes._subplots.AxesSubplot at 0x17601b2c9c8>"
      ]
     },
     "execution_count": 57,
     "metadata": {},
     "output_type": "execute_result"
    },
    {
     "data": {
      "image/png": "[encoded data removed]",
      "text/plain": [
       "<Figure size 720x288 with 1 Axes>"
      ]
     },
     "metadata": {
      "needs_background": "light"
     },
     "output_type": "display_data"
    }
   ],
   "source": [
    "plt.figure(figsize=(10, 4)); plt.title('Ratio of selected countries 1')\n",
    "sns.barplot(x=ratio_d.index, y=ratio_d.values)\n",
    "#plt.figure(figsize=(10, 4)); plt.title('Ratio of selected countries 2')\n",
    "#sns.barplot(x=ratio_c.index, y=ratio_c.values)"
   ]
  },
  {
   "cell_type": "code",
   "execution_count": 58,
   "id": "038acf61",
   "metadata": {},
   "outputs": [],
   "source": [
    "# OBSERVATIONS:\n",
    "# Plot the deaths to cases ratio and compare it with the top countries for highest deaths and highest cases - DONE\n",
    "\n",
    "# Russia has the lowest ratio and it comes 3rd in total cases. Amazing! Russia is followed by India and Peru.\n",
    "# France has the highest ratio and it comes 5th in total deaths. France is followed by Belgium, Italy, and United Kingdom.\n",
    "# U.K and France also has high deaths\n",
    "\n",
    "# The reasons of low ratio in Russia and India maybe that Russia has low population and India has more youth (not sure about India's reason).\n",
    "# Italy has 23% (2nd highest), France has 20% (11th highest), U.K has 18.5% (24th highest)"
   ]
  },
  {
   "cell_type": "code",
   "execution_count": 59,
   "id": "3624dd64",
   "metadata": {},
   "outputs": [
    {
     "data": {
      "text/plain": [
       "<matplotlib.legend.Legend at 0x17602bded88>"
      ]
     },
     "execution_count": 59,
     "metadata": {},
     "output_type": "execute_result"
    },
    {
     "data": {
      "image/png": "[encoded data removed]",
      "text/plain": [
       "<Figure size 1080x576 with 1 Axes>"
      ]
     },
     "metadata": {
      "needs_background": "light"
     },
     "output_type": "display_data"
    }
   ],
   "source": [
    "# Let's plot the death graph for top 5 countries and see/compare the critical dates.\n",
    "top_countries = ['United States', 'United Kingdom', 'Brazil', 'Italy', 'France']\n",
    "\n",
    "plt.figure(figsize=(15, 8))\n",
    "for loc in top_countries:\n",
    "    df4 = covid_base[covid_base['location'] == loc]\n",
    "    df4 = df4[df4['date'] > '2020-03']\n",
    "    plt.plot(df4['date'], df4['new_deaths'].cumsum(), label=loc)\n",
    "    \n",
    "plt.xlabel('Dates')\n",
    "#plt.ylabel('Total Deaths')\n",
    "plt.title('Total Deaths')\n",
    "plt.legend()"
   ]
  },
  {
   "cell_type": "code",
   "execution_count": 60,
   "id": "4fd761bc",
   "metadata": {},
   "outputs": [],
   "source": [
    "# OBSERVATIONS:\n",
    "#1. The leading country with the highest count of deaths is Italy.\n",
    "#2. United States had the highest growth as compared to other countries from April-2020. Brazil follows.\n",
    "#3. The deaths in Italy and France is under control near the end date.\n",
    "#4. Brazil's deaths is the quickest near the end date. Brazil had the least deaths in the beginning."
   ]
  },
  {
   "cell_type": "code",
   "execution_count": 61,
   "id": "481c53ec",
   "metadata": {},
   "outputs": [],
   "source": [
    "# CHECK\n",
    "# Does the top 5 countries have continous dates?\n",
    "\n",
    "#top_countries in not_daily_freq_locs  # OMIT\n",
    "#[element in not_daily_freq_locs for element in top_countries]\n",
    "# ANS: NO"
   ]
  },
  {
   "cell_type": "code",
   "execution_count": 62,
   "id": "76911a62",
   "metadata": {},
   "outputs": [
    {
     "data": {
      "text/html": [
       "<div>\n",
       "<style scoped>\n",
       "    .dataframe tbody tr th:only-of-type {\n",
       "        vertical-align: middle;\n",
       "    }\n",
       "\n",
       "    .dataframe tbody tr th {\n",
       "        vertical-align: top;\n",
       "    }\n",
       "\n",
       "    .dataframe thead th {\n",
       "        text-align: right;\n",
       "    }\n",
       "</style>\n",
       "<table border=\"1\" class=\"dataframe\">\n",
       "  <thead>\n",
       "    <tr style=\"text-align: right;\">\n",
       "      <th></th>\n",
       "      <th>new_cases</th>\n",
       "      <th>new_deaths</th>\n",
       "    </tr>\n",
       "    <tr>\n",
       "      <th>date</th>\n",
       "      <th></th>\n",
       "      <th></th>\n",
       "    </tr>\n",
       "  </thead>\n",
       "  <tbody>\n",
       "    <tr>\n",
       "      <th>2019-12-31</th>\n",
       "      <td>0</td>\n",
       "      <td>0</td>\n",
       "    </tr>\n",
       "    <tr>\n",
       "      <th>2020-01-31</th>\n",
       "      <td>0</td>\n",
       "      <td>0</td>\n",
       "    </tr>\n",
       "    <tr>\n",
       "      <th>2020-02-29</th>\n",
       "      <td>1</td>\n",
       "      <td>0</td>\n",
       "    </tr>\n",
       "    <tr>\n",
       "      <th>2020-03-31</th>\n",
       "      <td>140</td>\n",
       "      <td>4</td>\n",
       "    </tr>\n",
       "    <tr>\n",
       "      <th>2020-04-30</th>\n",
       "      <td>1808</td>\n",
       "      <td>56</td>\n",
       "    </tr>\n",
       "    <tr>\n",
       "      <th>2020-05-31</th>\n",
       "      <td>12576</td>\n",
       "      <td>189</td>\n",
       "    </tr>\n",
       "    <tr>\n",
       "      <th>2020-06-30</th>\n",
       "      <td>6934</td>\n",
       "      <td>135</td>\n",
       "    </tr>\n",
       "  </tbody>\n",
       "</table>\n",
       "</div>"
      ],
      "text/plain": [
       "            new_cases  new_deaths\n",
       "date                             \n",
       "2019-12-31          0           0\n",
       "2020-01-31          0           0\n",
       "2020-02-29          1           0\n",
       "2020-03-31        140           4\n",
       "2020-04-30       1808          56\n",
       "2020-05-31      12576         189\n",
       "2020-06-30       6934         135"
      ]
     },
     "execution_count": 62,
     "metadata": {},
     "output_type": "execute_result"
    }
   ],
   "source": [
    "# Resample the data of each location \n",
    "#covid_base\n",
    "#not_daily_freq_locs\n",
    "#covid_base.resample('M', on='date').sum() # for all locations\n",
    "Afg = covid_base[covid_base['location'] == 'Afghanistan']\n",
    "Afg.resample('M', on='date').sum()"
   ]
  },
  {
   "cell_type": "code",
   "execution_count": 64,
   "id": "966560c9",
   "metadata": {},
   "outputs": [],
   "source": [
    "# Barplot IDEA:\n",
    "# We can plot the total deaths and cases of any particular month between different location."
   ]
  },
  {
   "cell_type": "code",
   "execution_count": 65,
   "id": "c4c54fee",
   "metadata": {},
   "outputs": [
    {
     "data": {
      "text/plain": [
       "<matplotlib.axes._subplots.AxesSubplot at 0x17601b2ad48>"
      ]
     },
     "execution_count": 65,
     "metadata": {},
     "output_type": "execute_result"
    },
    {
     "data": {
      "image/png": "[encoded data removed]",
      "text/plain": [
       "<Figure size 432x288 with 1 Axes>"
      ]
     },
     "metadata": {
      "needs_background": "light"
     },
     "output_type": "display_data"
    }
   ],
   "source": [
    "# Plot horizontal barplots of mean of top5 countries acc. to deaths per month\n",
    "covid_base_top5 = covid_base[covid_base['location'].isin(top_countries)]\n",
    "top5_resampled = covid_base_top5.resample('M', on='date').mean()\n",
    "#top5_resampled\n",
    "top5_resampled['new_deaths'].plot(kind = 'barh', width = 0.5)  # You can also plot the whole dataframe for multi-feature plot"
   ]
  },
  {
   "cell_type": "code",
   "execution_count": 66,
   "id": "750149aa",
   "metadata": {},
   "outputs": [],
   "source": [
    "# Why I didn't plot the bar plot directly from the dataframe like in practice1."
   ]
  },
  {
   "cell_type": "code",
   "execution_count": 67,
   "id": "ab3ad4ff",
   "metadata": {},
   "outputs": [
    {
     "data": {
      "text/plain": [
       "<seaborn.axisgrid.PairGrid at 0x17601689e08>"
      ]
     },
     "execution_count": 67,
     "metadata": {},
     "output_type": "execute_result"
    },
    {
     "data": {
      "image/png": "[encoded data removed]",
      "text/plain": [
       "<Figure size 1080x1080 with 42 Axes>"
      ]
     },
     "metadata": {
      "needs_background": "light"
     },
     "output_type": "display_data"
    }
   ],
   "source": [
    "# As we know that:\n",
    "#92% correlation between new_cases and new_deaths.\n",
    "#65% correlation between aged_65_older and hospital_beds\n",
    "#51% corr between gdp and aged_65_older\n",
    "#30% corr between gdp and hospital_beds\n",
    "\n",
    "covid.head()\n",
    "sns.pairplot(covid)"
   ]
  },
  {
   "cell_type": "code",
   "execution_count": 68,
   "id": "8453b3b2",
   "metadata": {},
   "outputs": [
    {
     "data": {
      "text/plain": [
       "<matplotlib.axes._subplots.AxesSubplot at 0x17604a1c948>"
      ]
     },
     "execution_count": 68,
     "metadata": {},
     "output_type": "execute_result"
    },
    {
     "data": {
      "image/png": "[encoded data removed]",
      "text/plain": [
       "<Figure size 432x288 with 1 Axes>"
      ]
     },
     "metadata": {
      "needs_background": "light"
     },
     "output_type": "display_data"
    }
   ],
   "source": [
    "#sns.pairplot(covid_base, vars=['new_cases', 'new_deaths'])\n",
    "sns.scatterplot(data=covid_base[['new_cases', 'new_deaths']], x=\"new_cases\", y=\"new_deaths\", color='SlateGray')"
   ]
  },
  {
   "cell_type": "code",
   "execution_count": 69,
   "id": "1ae1ddf5",
   "metadata": {},
   "outputs": [
    {
     "data": {
      "text/html": [
       "<div>\n",
       "<style scoped>\n",
       "    .dataframe tbody tr th:only-of-type {\n",
       "        vertical-align: middle;\n",
       "    }\n",
       "\n",
       "    .dataframe tbody tr th {\n",
       "        vertical-align: top;\n",
       "    }\n",
       "\n",
       "    .dataframe thead th {\n",
       "        text-align: right;\n",
       "    }\n",
       "</style>\n",
       "<table border=\"1\" class=\"dataframe\">\n",
       "  <thead>\n",
       "    <tr style=\"text-align: right;\">\n",
       "      <th></th>\n",
       "      <th>location</th>\n",
       "      <th>date</th>\n",
       "      <th>new_cases</th>\n",
       "      <th>new_deaths</th>\n",
       "      <th>population</th>\n",
       "      <th>aged_65_older_percent</th>\n",
       "      <th>gdp_per_capita</th>\n",
       "      <th>hospital_beds_per_thousand</th>\n",
       "    </tr>\n",
       "  </thead>\n",
       "  <tbody>\n",
       "    <tr>\n",
       "      <th>0</th>\n",
       "      <td>Afghanistan</td>\n",
       "      <td>2019-12-31</td>\n",
       "      <td>0</td>\n",
       "      <td>0</td>\n",
       "      <td>38928341.0</td>\n",
       "      <td>2.581</td>\n",
       "      <td>1803.987</td>\n",
       "      <td>0.5</td>\n",
       "    </tr>\n",
       "    <tr>\n",
       "      <th>1</th>\n",
       "      <td>Afghanistan</td>\n",
       "      <td>2020-01-01</td>\n",
       "      <td>0</td>\n",
       "      <td>0</td>\n",
       "      <td>38928341.0</td>\n",
       "      <td>2.581</td>\n",
       "      <td>1803.987</td>\n",
       "      <td>0.5</td>\n",
       "    </tr>\n",
       "    <tr>\n",
       "      <th>2</th>\n",
       "      <td>Afghanistan</td>\n",
       "      <td>2020-01-02</td>\n",
       "      <td>0</td>\n",
       "      <td>0</td>\n",
       "      <td>38928341.0</td>\n",
       "      <td>2.581</td>\n",
       "      <td>1803.987</td>\n",
       "      <td>0.5</td>\n",
       "    </tr>\n",
       "    <tr>\n",
       "      <th>3</th>\n",
       "      <td>Afghanistan</td>\n",
       "      <td>2020-01-03</td>\n",
       "      <td>0</td>\n",
       "      <td>0</td>\n",
       "      <td>38928341.0</td>\n",
       "      <td>2.581</td>\n",
       "      <td>1803.987</td>\n",
       "      <td>0.5</td>\n",
       "    </tr>\n",
       "    <tr>\n",
       "      <th>4</th>\n",
       "      <td>Afghanistan</td>\n",
       "      <td>2020-01-04</td>\n",
       "      <td>0</td>\n",
       "      <td>0</td>\n",
       "      <td>38928341.0</td>\n",
       "      <td>2.581</td>\n",
       "      <td>1803.987</td>\n",
       "      <td>0.5</td>\n",
       "    </tr>\n",
       "    <tr>\n",
       "      <th>...</th>\n",
       "      <td>...</td>\n",
       "      <td>...</td>\n",
       "      <td>...</td>\n",
       "      <td>...</td>\n",
       "      <td>...</td>\n",
       "      <td>...</td>\n",
       "      <td>...</td>\n",
       "      <td>...</td>\n",
       "    </tr>\n",
       "    <tr>\n",
       "      <th>23077</th>\n",
       "      <td>International</td>\n",
       "      <td>2020-02-28</td>\n",
       "      <td>0</td>\n",
       "      <td>0</td>\n",
       "      <td>NaN</td>\n",
       "      <td>NaN</td>\n",
       "      <td>NaN</td>\n",
       "      <td>NaN</td>\n",
       "    </tr>\n",
       "    <tr>\n",
       "      <th>23078</th>\n",
       "      <td>International</td>\n",
       "      <td>2020-02-29</td>\n",
       "      <td>0</td>\n",
       "      <td>2</td>\n",
       "      <td>NaN</td>\n",
       "      <td>NaN</td>\n",
       "      <td>NaN</td>\n",
       "      <td>NaN</td>\n",
       "    </tr>\n",
       "    <tr>\n",
       "      <th>23079</th>\n",
       "      <td>International</td>\n",
       "      <td>2020-03-01</td>\n",
       "      <td>0</td>\n",
       "      <td>0</td>\n",
       "      <td>NaN</td>\n",
       "      <td>NaN</td>\n",
       "      <td>NaN</td>\n",
       "      <td>NaN</td>\n",
       "    </tr>\n",
       "    <tr>\n",
       "      <th>23080</th>\n",
       "      <td>International</td>\n",
       "      <td>2020-03-02</td>\n",
       "      <td>0</td>\n",
       "      <td>0</td>\n",
       "      <td>NaN</td>\n",
       "      <td>NaN</td>\n",
       "      <td>NaN</td>\n",
       "      <td>NaN</td>\n",
       "    </tr>\n",
       "    <tr>\n",
       "      <th>23081</th>\n",
       "      <td>International</td>\n",
       "      <td>2020-03-10</td>\n",
       "      <td>-9</td>\n",
       "      <td>1</td>\n",
       "      <td>NaN</td>\n",
       "      <td>NaN</td>\n",
       "      <td>NaN</td>\n",
       "      <td>NaN</td>\n",
       "    </tr>\n",
       "  </tbody>\n",
       "</table>\n",
       "<p>23082 rows × 8 columns</p>\n",
       "</div>"
      ],
      "text/plain": [
       "            location       date  new_cases  new_deaths  population  \\\n",
       "0        Afghanistan 2019-12-31          0           0  38928341.0   \n",
       "1        Afghanistan 2020-01-01          0           0  38928341.0   \n",
       "2        Afghanistan 2020-01-02          0           0  38928341.0   \n",
       "3        Afghanistan 2020-01-03          0           0  38928341.0   \n",
       "4        Afghanistan 2020-01-04          0           0  38928341.0   \n",
       "...              ...        ...        ...         ...         ...   \n",
       "23077  International 2020-02-28          0           0         NaN   \n",
       "23078  International 2020-02-29          0           2         NaN   \n",
       "23079  International 2020-03-01          0           0         NaN   \n",
       "23080  International 2020-03-02          0           0         NaN   \n",
       "23081  International 2020-03-10         -9           1         NaN   \n",
       "\n",
       "       aged_65_older_percent  gdp_per_capita  hospital_beds_per_thousand  \n",
       "0                      2.581        1803.987                         0.5  \n",
       "1                      2.581        1803.987                         0.5  \n",
       "2                      2.581        1803.987                         0.5  \n",
       "3                      2.581        1803.987                         0.5  \n",
       "4                      2.581        1803.987                         0.5  \n",
       "...                      ...             ...                         ...  \n",
       "23077                    NaN             NaN                         NaN  \n",
       "23078                    NaN             NaN                         NaN  \n",
       "23079                    NaN             NaN                         NaN  \n",
       "23080                    NaN             NaN                         NaN  \n",
       "23081                    NaN             NaN                         NaN  \n",
       "\n",
       "[23082 rows x 8 columns]"
      ]
     },
     "metadata": {},
     "output_type": "display_data"
    }
   ],
   "source": [
    "# The data contains 212 countries, World, and International as locations.\n",
    "display(covid)"
   ]
  },
  {
   "cell_type": "code",
   "execution_count": 3,
   "id": "7ad84c20",
   "metadata": {},
   "outputs": [],
   "source": [
    "# Death Rate\n",
    "'''\n",
    "deaths_sum = grouped_data['new_deaths'].sum() #.sort_values(by='new_deaths')\n",
    "loc_info2 = loc_info.set_index('location')\n",
    "loc_info2['population'] #.isna().value_counts() # Only 01 null value at International\n",
    "pop_series_mill = loc_info2['population']/1000000\n",
    "pop_series_mill\n",
    "\n",
    "plt.figure(figsize=(10, 5))\n",
    "death_rate = deaths_sum/pop_series_mill\n",
    "death_rate #.isna().value_counts() # Only 01 null value\n",
    "death_rate = death_rate.sort_values(ascending=False)\n",
    "#sns.barplot(x = death_rate.head(10).index, y=death_rate.head(10))\n",
    "'''\n",
    "pass"
   ]
  },
  {
   "cell_type": "code",
   "execution_count": null,
   "id": "22240835",
   "metadata": {},
   "outputs": [],
   "source": []
  },
  {
   "cell_type": "markdown",
   "id": "6262997d",
   "metadata": {},
   "source": [
    "#### OBSERVATIONS:\n",
    "\n",
    "The dataset contains the following insights/problems:\n",
    "1. There are 212 countries.\n",
    "1. A lot of Null values.  \n",
    "2. \"International\" and a quarter countries have null values. Those countries are remote and have low popularity.\n",
    "3. If a row contain Null values, then all rows of the corresponding location will have Null values.  \n",
    "Sol.: Drop the rows containing Null values.\n",
    "4. Number of entries for each location are not the same.\n",
    "5. The last four columns have repeated values for each country.  \n",
    "Sol.: We need to seperate these columns to a new dataframe.\n",
    "6. No duplicate values found in the Date column\n",
    "7. 45 unique values in the start date. Majority = 2019-12-31\n",
    "7. 4 unique values in the end date. (It has a clear single majority \"2020-06-10\", where others are negligible)\n",
    "8. We observe a significant difference between the count of unique location entries and the count of unique start dates.\n",
    "9. Single unique values for each location in last four columns.\n",
    "10. See the observations about the data distribution below its plot.\n",
    "11. Only Hong Kong has 0 total cases in its date range.\n",
    "11. 28 countries have 0 total cases in their data ranges.\n",
    "12. 136 locations(64%) out of 212 have the date on a daily frequency\n",
    "13. Russia has the lowest ratio and it comes 3rd in total cases. Amazing! Russia is followed by India and Peru.  \n",
    "13. France has the highest ratio and it comes 5th in total deaths. France is followed by Belgium, Italy, and United Kingdom.  \n",
    "13. U.K and France also has high deaths  \n",
    "13. The reasons of low ratio in Russia and India maybe that Russia has low population and India has more youth (not sure about India's reason).  \n",
    "13. Italy has 23% (2nd highest), France has 20% (11th highest), U.K has 18.5% (24th highest)  \n",
    "14. The leading country with the highest count of deaths is Italy.\n",
    "14. United States had the highest growth as compared to other countries from April-2020. Brazil follows.\n",
    "14. The deaths in Italy and France is under control near the end date.\n",
    "14. Brazil's deaths is the quickest near the end date. Brazil had the least deaths in the beginning.\n",
    "15. There are around 14 negative values in new_cases and 2 in new_deaths\n",
    "15. United States has the highest record of deaths on 16/Apr/2020 i.e. 4928\n",
    "15. United States has the highest record of cases on 26/Apr/2020 i.e. 48529"
   ]
  },
  {
   "cell_type": "code",
   "execution_count": null,
   "id": "7eed25aa",
   "metadata": {},
   "outputs": [],
   "source": []
  },
  {
   "cell_type": "code",
   "execution_count": null,
   "id": "efa8cf03",
   "metadata": {},
   "outputs": [],
   "source": []
  },
  {
   "cell_type": "markdown",
   "id": "d6deb90e",
   "metadata": {},
   "source": [
    "# THE END"
   ]
  }
 ],
 "metadata": {
  "kernelspec": {
   "display_name": "Python 3",
   "language": "python",
   "name": "python3"
  },
  "language_info": {
   "codemirror_mode": {
    "name": "ipython",
    "version": 3
   },
   "file_extension": ".py",
   "mimetype": "text/x-python",
   "name": "python",
   "nbconvert_exporter": "python",
   "pygments_lexer": "ipython3",
   "version": "3.7.7"
  }
 },
 "nbformat": 4,
 "nbformat_minor": 5
}
